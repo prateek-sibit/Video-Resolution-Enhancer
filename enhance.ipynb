{
  "cells": [
    {
      "metadata": {},
      "cell_type": "markdown",
      "source": "# Install ISR"
    },
    {
      "metadata": {
        "trusted": true
      },
      "cell_type": "code",
      "source": "!pip install ISR",
      "execution_count": 2,
      "outputs": [
        {
          "output_type": "stream",
          "text": "Requirement already satisfied: ISR in /home/nbuser/anaconda3_501/lib/python3.6/site-packages (2.0.0)\nRequirement already satisfied: tqdm in /home/nbuser/anaconda3_501/lib/python3.6/site-packages (from ISR) (4.26.0)\nRequirement already satisfied: numpy==1.16.2 in /home/nbuser/anaconda3_501/lib/python3.6/site-packages (from ISR) (1.16.2)\nRequirement already satisfied: tensorflow==1.13.1 in /home/nbuser/anaconda3_501/lib/python3.6/site-packages (from ISR) (1.13.1)\nRequirement already satisfied: Keras==2.2.4 in /home/nbuser/anaconda3_501/lib/python3.6/site-packages (from ISR) (2.2.4)\nRequirement already satisfied: imageio in /home/nbuser/anaconda3_501/lib/python3.6/site-packages (from ISR) (2.4.1)\nRequirement already satisfied: gast>=0.2.0 in /home/nbuser/anaconda3_501/lib/python3.6/site-packages (from tensorflow==1.13.1->ISR) (0.2.2)\nRequirement already satisfied: six>=1.10.0 in /home/nbuser/anaconda3_501/lib/python3.6/site-packages (from tensorflow==1.13.1->ISR) (1.11.0)\nRequirement already satisfied: tensorboard<1.14.0,>=1.13.0 in /home/nbuser/anaconda3_501/lib/python3.6/site-packages (from tensorflow==1.13.1->ISR) (1.13.1)\nRequirement already satisfied: protobuf>=3.6.1 in /home/nbuser/anaconda3_501/lib/python3.6/site-packages (from tensorflow==1.13.1->ISR) (3.7.0)\nRequirement already satisfied: grpcio>=1.8.6 in /home/nbuser/anaconda3_501/lib/python3.6/site-packages (from tensorflow==1.13.1->ISR) (1.19.0)\nRequirement already satisfied: wheel>=0.26 in /home/nbuser/anaconda3_501/lib/python3.6/site-packages (from tensorflow==1.13.1->ISR) (0.30.0)\nRequirement already satisfied: tensorflow-estimator<1.14.0rc0,>=1.13.0 in /home/nbuser/anaconda3_501/lib/python3.6/site-packages (from tensorflow==1.13.1->ISR) (1.13.0)\nRequirement already satisfied: absl-py>=0.1.6 in /home/nbuser/anaconda3_501/lib/python3.6/site-packages (from tensorflow==1.13.1->ISR) (0.7.0)\nRequirement already satisfied: termcolor>=1.1.0 in /home/nbuser/anaconda3_501/lib/python3.6/site-packages (from tensorflow==1.13.1->ISR) (1.1.0)\nRequirement already satisfied: keras-applications>=1.0.6 in /home/nbuser/anaconda3_501/lib/python3.6/site-packages (from tensorflow==1.13.1->ISR) (1.0.7)\nRequirement already satisfied: keras-preprocessing>=1.0.5 in /home/nbuser/anaconda3_501/lib/python3.6/site-packages (from tensorflow==1.13.1->ISR) (1.0.9)\nRequirement already satisfied: astor>=0.6.0 in /home/nbuser/anaconda3_501/lib/python3.6/site-packages (from tensorflow==1.13.1->ISR) (0.7.1)\nRequirement already satisfied: pyyaml in /home/nbuser/anaconda3_501/lib/python3.6/site-packages (from Keras==2.2.4->ISR) (3.13)\nRequirement already satisfied: scipy>=0.14 in /home/nbuser/anaconda3_501/lib/python3.6/site-packages (from Keras==2.2.4->ISR) (1.1.0)\nRequirement already satisfied: h5py in /home/nbuser/anaconda3_501/lib/python3.6/site-packages (from Keras==2.2.4->ISR) (2.8.0)\nRequirement already satisfied: werkzeug>=0.11.15 in /home/nbuser/anaconda3_501/lib/python3.6/site-packages (from tensorboard<1.14.0,>=1.13.0->tensorflow==1.13.1->ISR) (0.14.1)\nRequirement already satisfied: markdown>=2.6.8 in /home/nbuser/anaconda3_501/lib/python3.6/site-packages (from tensorboard<1.14.0,>=1.13.0->tensorflow==1.13.1->ISR) (3.0.1)\nRequirement already satisfied: setuptools in /home/nbuser/anaconda3_501/lib/python3.6/site-packages (from protobuf>=3.6.1->tensorflow==1.13.1->ISR) (40.8.0)\nRequirement already satisfied: mock>=2.0.0 in /home/nbuser/anaconda3_501/lib/python3.6/site-packages (from tensorflow-estimator<1.14.0rc0,>=1.13.0->tensorflow==1.13.1->ISR) (2.0.0)\nRequirement already satisfied: pbr>=0.11 in /home/nbuser/anaconda3_501/lib/python3.6/site-packages (from mock>=2.0.0->tensorflow-estimator<1.14.0rc0,>=1.13.0->tensorflow==1.13.1->ISR) (4.2.0)\n",
          "name": "stdout"
        }
      ]
    },
    {
      "metadata": {
        "trusted": true
      },
      "cell_type": "markdown",
      "source": "#### Get the weights with"
    },
    {
      "metadata": {
        "trusted": true
      },
      "cell_type": "code",
      "source": "!wget https://github.com/idealo/image-super-resolution/raw/master/weights/sample_weights/rdn-C6-D20-G64-G064-x2_enhanced-e219.hdf5\n!wget https://github.com/idealo/image-super-resolution/raw/master/weights/sample_weights/rdn-C6-D20-G64-G064-x2_div2k-e086.hdf5\n!wget https://github.com/idealo/image-super-resolution/raw/master/weights/sample_weights/rdn-C3-D10-G64-G064-x2_div2k-e134.hdf5\n!mkdir weights\n!mv *.hdf5 weights",
      "execution_count": 3,
      "outputs": [
        {
          "output_type": "stream",
          "text": "--2019-03-29 07:01:06--  https://github.com/idealo/image-super-resolution/raw/master/weights/sample_weights/rdn-C6-D20-G64-G064-x2_enhanced-e219.hdf5\nResolving webproxy (webproxy)... 10.36.29.1\nConnecting to webproxy (webproxy)|10.36.29.1|:3128... connected.\nProxy request sent, awaiting response... 302 Found\nLocation: https://media.githubusercontent.com/media/idealo/image-super-resolution/master/weights/sample_weights/rdn-C6-D20-G64-G064-x2_enhanced-e219.hdf5 [following]\n--2019-03-29 07:01:07--  https://media.githubusercontent.com/media/idealo/image-super-resolution/master/weights/sample_weights/rdn-C6-D20-G64-G064-x2_enhanced-e219.hdf5\nConnecting to webproxy (webproxy)|10.36.29.1|:3128... connected.\nProxy request sent, awaiting response... 200 OK\nLength: 66071288 (63M) [application/octet-stream]\nSaving to: ‘rdn-C6-D20-G64-G064-x2_enhanced-e219.hdf5’\n\nrdn-C6-D20-G64-G064 100%[===================>]  63.01M  1.92MB/s    in 30s     \n\n2019-03-29 07:01:39 (2.09 MB/s) - ‘rdn-C6-D20-G64-G064-x2_enhanced-e219.hdf5’ saved [66071288/66071288]\n\n--2019-03-29 07:01:39--  https://github.com/idealo/image-super-resolution/raw/master/weights/sample_weights/rdn-C6-D20-G64-G064-x2_div2k-e086.hdf5\nResolving webproxy (webproxy)... 10.36.29.1\nConnecting to webproxy (webproxy)|10.36.29.1|:3128... connected.\nProxy request sent, awaiting response... 302 Found\nLocation: https://media.githubusercontent.com/media/idealo/image-super-resolution/master/weights/sample_weights/rdn-C6-D20-G64-G064-x2_div2k-e086.hdf5 [following]\n--2019-03-29 07:01:39--  https://media.githubusercontent.com/media/idealo/image-super-resolution/master/weights/sample_weights/rdn-C6-D20-G64-G064-x2_div2k-e086.hdf5\nConnecting to webproxy (webproxy)|10.36.29.1|:3128... connected.\nProxy request sent, awaiting response... 200 OK\nLength: 66071288 (63M) [application/octet-stream]\nSaving to: ‘rdn-C6-D20-G64-G064-x2_div2k-e086.hdf5’\n\nrdn-C6-D20-G64-G064 100%[===================>]  63.01M  1.73MB/s    in 32s     \n\n2019-03-29 07:02:13 (1.95 MB/s) - ‘rdn-C6-D20-G64-G064-x2_div2k-e086.hdf5’ saved [66071288/66071288]\n\n--2019-03-29 07:02:13--  https://github.com/idealo/image-super-resolution/raw/master/weights/sample_weights/rdn-C3-D10-G64-G064-x2_div2k-e134.hdf5\nResolving webproxy (webproxy)... 10.36.29.1\nConnecting to webproxy (webproxy)|10.36.29.1|:3128... connected.\nProxy request sent, awaiting response... 302 Found\nLocation: https://media.githubusercontent.com/media/idealo/image-super-resolution/master/weights/sample_weights/rdn-C3-D10-G64-G064-x2_div2k-e134.hdf5 [following]\n--2019-03-29 07:02:13--  https://media.githubusercontent.com/media/idealo/image-super-resolution/master/weights/sample_weights/rdn-C3-D10-G64-G064-x2_div2k-e134.hdf5\nConnecting to webproxy (webproxy)|10.36.29.1|:3128... connected.\nProxy request sent, awaiting response... 200 OK\nLength: 10694096 (10M) [application/octet-stream]\nSaving to: ‘rdn-C3-D10-G64-G064-x2_div2k-e134.hdf5’\n\nrdn-C3-D10-G64-G064 100%[===================>]  10.20M  1.52MB/s    in 5.7s    \n\n2019-03-29 07:02:20 (1.79 MB/s) - ‘rdn-C3-D10-G64-G064-x2_div2k-e134.hdf5’ saved [10694096/10694096]\n\n",
          "name": "stdout"
        }
      ]
    },
    {
      "metadata": {
        "trusted": true
      },
      "cell_type": "markdown",
      "source": "#### Create the model and run predictions\nCreate the RDN model, for which we provide pre-trained weights, and load them"
    },
    {
      "metadata": {
        "trusted": true
      },
      "cell_type": "code",
      "source": "from ISR.models import RDN",
      "execution_count": 4,
      "outputs": [
        {
          "output_type": "stream",
          "text": "Using TensorFlow backend.\n",
          "name": "stderr"
        }
      ]
    },
    {
      "metadata": {},
      "cell_type": "markdown",
      "source": "#### Large RDN noise cancelling, detail enchancing model"
    },
    {
      "metadata": {
        "trusted": true
      },
      "cell_type": "code",
      "source": "rdn = RDN(arch_params={'C': 6, 'D':20, 'G':64, 'G0':64, 'x':2})\nrdn.model.load_weights('weights/rdn-C6-D20-G64-G064-x2_enhanced-e219.hdf5')",
      "execution_count": 5,
      "outputs": [
        {
          "output_type": "stream",
          "text": "WARNING:tensorflow:From /home/nbuser/anaconda3_501/lib/python3.6/site-packages/tensorflow/python/framework/op_def_library.py:263: colocate_with (from tensorflow.python.framework.ops) is deprecated and will be removed in a future version.\nInstructions for updating:\nColocations handled automatically by placer.\n",
          "name": "stdout"
        }
      ]
    },
    {
      "metadata": {},
      "cell_type": "markdown",
      "source": "#### Predictor Class"
    },
    {
      "metadata": {},
      "cell_type": "markdown",
      "source": "We can also use the predictor class to run the model on entire folders:"
    },
    {
      "metadata": {
        "trusted": true
      },
      "cell_type": "code",
      "source": "from ISR.predict import Predictor\n\npredictor = Predictor(input_dir='data/frames/test1')\npredictor.get_predictions(model=rdn, weights_path='weights/rdn-C6-D20-G64-G064-x2_enhanced-e219.hdf5')",
      "execution_count": 8,
      "outputs": [
        {
          "output_type": "stream",
          "text": "Loaded weights from \n > weights/rdn-C6-D20-G64-G064-x2_enhanced-e219.hdf5\nResults in:\n > ./data/output/test1/rdn-C6-D20-G64-G064-x2/enhanced-e219\nProcessing file\n > data/frames/test1/frame5.jpg\nElapsed time: 45.37902569770813s\nResult in: ./data/output/test1/rdn-C6-D20-G64-G064-x2/enhanced-e219/frame5.jpg\nProcessing file\n > data/frames/test1/frame46.jpg\nElapsed time: 43.8381884098053s\nResult in: ./data/output/test1/rdn-C6-D20-G64-G064-x2/enhanced-e219/frame46.jpg\nProcessing file\n > data/frames/test1/frame50.jpg\nElapsed time: 55.196433782577515s\nResult in: ./data/output/test1/rdn-C6-D20-G64-G064-x2/enhanced-e219/frame50.jpg\nProcessing file\n > data/frames/test1/frame40.jpg\nElapsed time: 49.82514214515686s\nResult in: ./data/output/test1/rdn-C6-D20-G64-G064-x2/enhanced-e219/frame40.jpg\nProcessing file\n > data/frames/test1/frame51.jpg\nElapsed time: 45.66136121749878s\nResult in: ./data/output/test1/rdn-C6-D20-G64-G064-x2/enhanced-e219/frame51.jpg\nProcessing file\n > data/frames/test1/frame37.jpg\nElapsed time: 45.441328048706055s\nResult in: ./data/output/test1/rdn-C6-D20-G64-G064-x2/enhanced-e219/frame37.jpg\nProcessing file\n > data/frames/test1/frame12.jpg\nElapsed time: 48.574981451034546s\nResult in: ./data/output/test1/rdn-C6-D20-G64-G064-x2/enhanced-e219/frame12.jpg\nProcessing file\n > data/frames/test1/frame38.jpg\nElapsed time: 48.55549478530884s\nResult in: ./data/output/test1/rdn-C6-D20-G64-G064-x2/enhanced-e219/frame38.jpg\nProcessing file\n > data/frames/test1/frame26.jpg\nElapsed time: 50.23231220245361s\nResult in: ./data/output/test1/rdn-C6-D20-G64-G064-x2/enhanced-e219/frame26.jpg\nProcessing file\n > data/frames/test1/frame16.jpg\nElapsed time: 56.724342823028564s\nResult in: ./data/output/test1/rdn-C6-D20-G64-G064-x2/enhanced-e219/frame16.jpg\nProcessing file\n > data/frames/test1/frame29.jpg\nElapsed time: 49.015910625457764s\nResult in: ./data/output/test1/rdn-C6-D20-G64-G064-x2/enhanced-e219/frame29.jpg\nProcessing file\n > data/frames/test1/frame4.jpg\nElapsed time: 51.89892029762268s\nResult in: ./data/output/test1/rdn-C6-D20-G64-G064-x2/enhanced-e219/frame4.jpg\nProcessing file\n > data/frames/test1/frame3.jpg\nElapsed time: 52.20492243766785s\nResult in: ./data/output/test1/rdn-C6-D20-G64-G064-x2/enhanced-e219/frame3.jpg\nProcessing file\n > data/frames/test1/frame58.jpg\nElapsed time: 52.92206645011902s\nResult in: ./data/output/test1/rdn-C6-D20-G64-G064-x2/enhanced-e219/frame58.jpg\nProcessing file\n > data/frames/test1/frame57.jpg\nElapsed time: 52.60484337806702s\nResult in: ./data/output/test1/rdn-C6-D20-G64-G064-x2/enhanced-e219/frame57.jpg\nProcessing file\n > data/frames/test1/frame25.jpg\nElapsed time: 50.29438614845276s\nResult in: ./data/output/test1/rdn-C6-D20-G64-G064-x2/enhanced-e219/frame25.jpg\nProcessing file\n > data/frames/test1/frame47.jpg\nElapsed time: 50.87407994270325s\nResult in: ./data/output/test1/rdn-C6-D20-G64-G064-x2/enhanced-e219/frame47.jpg\nProcessing file\n > data/frames/test1/frame54.jpg\nElapsed time: 50.70384073257446s\nResult in: ./data/output/test1/rdn-C6-D20-G64-G064-x2/enhanced-e219/frame54.jpg\nProcessing file\n > data/frames/test1/frame39.jpg\nElapsed time: 50.868828535079956s\nResult in: ./data/output/test1/rdn-C6-D20-G64-G064-x2/enhanced-e219/frame39.jpg\nProcessing file\n > data/frames/test1/frame19.jpg\nElapsed time: 50.69702076911926s\nResult in: ./data/output/test1/rdn-C6-D20-G64-G064-x2/enhanced-e219/frame19.jpg\nProcessing file\n > data/frames/test1/frame6.jpg\nElapsed time: 44.02433729171753s\nResult in: ./data/output/test1/rdn-C6-D20-G64-G064-x2/enhanced-e219/frame6.jpg\nProcessing file\n > data/frames/test1/frame60.jpg\nElapsed time: 54.95524048805237s\nResult in: ./data/output/test1/rdn-C6-D20-G64-G064-x2/enhanced-e219/frame60.jpg\nProcessing file\n > data/frames/test1/frame22.jpg\nElapsed time: 53.989342212677s\nResult in: ./data/output/test1/rdn-C6-D20-G64-G064-x2/enhanced-e219/frame22.jpg\nProcessing file\n > data/frames/test1/frame33.jpg\nElapsed time: 49.40765404701233s\nResult in: ./data/output/test1/rdn-C6-D20-G64-G064-x2/enhanced-e219/frame33.jpg\nProcessing file\n > data/frames/test1/frame55.jpg\nElapsed time: 53.64148736000061s\nResult in: ./data/output/test1/rdn-C6-D20-G64-G064-x2/enhanced-e219/frame55.jpg\nProcessing file\n > data/frames/test1/frame7.jpg\nElapsed time: 53.313273191452026s\nResult in: ./data/output/test1/rdn-C6-D20-G64-G064-x2/enhanced-e219/frame7.jpg\nProcessing file\n > data/frames/test1/frame28.jpg\nElapsed time: 53.77276945114136s\nResult in: ./data/output/test1/rdn-C6-D20-G64-G064-x2/enhanced-e219/frame28.jpg\nProcessing file\n > data/frames/test1/frame10.jpg\nElapsed time: 53.7467041015625s\nResult in: ./data/output/test1/rdn-C6-D20-G64-G064-x2/enhanced-e219/frame10.jpg\nProcessing file\n > data/frames/test1/frame59.jpg\nElapsed time: 44.69371032714844s\nResult in: ./data/output/test1/rdn-C6-D20-G64-G064-x2/enhanced-e219/frame59.jpg\nProcessing file\n > data/frames/test1/frame14.jpg\nElapsed time: 43.38582921028137s\nResult in: ./data/output/test1/rdn-C6-D20-G64-G064-x2/enhanced-e219/frame14.jpg\nProcessing file\n > data/frames/test1/frame27.jpg\nElapsed time: 52.41959261894226s\nResult in: ./data/output/test1/rdn-C6-D20-G64-G064-x2/enhanced-e219/frame27.jpg\nProcessing file\n > data/frames/test1/frame48.jpg\nElapsed time: 51.142834186553955s\nResult in: ./data/output/test1/rdn-C6-D20-G64-G064-x2/enhanced-e219/frame48.jpg\nProcessing file\n > data/frames/test1/frame52.jpg\nElapsed time: 51.12688970565796s\nResult in: ./data/output/test1/rdn-C6-D20-G64-G064-x2/enhanced-e219/frame52.jpg\nProcessing file\n > data/frames/test1/frame21.jpg\nElapsed time: 57.477561473846436s\nResult in: ./data/output/test1/rdn-C6-D20-G64-G064-x2/enhanced-e219/frame21.jpg\nProcessing file\n > data/frames/test1/frame8.jpg\nElapsed time: 50.93635559082031s\nResult in: ./data/output/test1/rdn-C6-D20-G64-G064-x2/enhanced-e219/frame8.jpg\nProcessing file\n > data/frames/test1/frame18.jpg\nElapsed time: 50.838348388671875s\nResult in: ./data/output/test1/rdn-C6-D20-G64-G064-x2/enhanced-e219/frame18.jpg\nProcessing file\n > data/frames/test1/frame56.jpg\nElapsed time: 52.386951208114624s\nResult in: ./data/output/test1/rdn-C6-D20-G64-G064-x2/enhanced-e219/frame56.jpg\nProcessing file\n > data/frames/test1/frame45.jpg\nElapsed time: 41.888124227523804s\nResult in: ./data/output/test1/rdn-C6-D20-G64-G064-x2/enhanced-e219/frame45.jpg\nProcessing file\n > data/frames/test1/frame31.jpg\nElapsed time: 44.886345624923706s\nResult in: ./data/output/test1/rdn-C6-D20-G64-G064-x2/enhanced-e219/frame31.jpg\nProcessing file\n > data/frames/test1/frame2.jpg\nElapsed time: 38.58244729042053s\nResult in: ./data/output/test1/rdn-C6-D20-G64-G064-x2/enhanced-e219/frame2.jpg\nProcessing file\n > data/frames/test1/frame11.jpg\nElapsed time: 38.46568250656128s\nResult in: ./data/output/test1/rdn-C6-D20-G64-G064-x2/enhanced-e219/frame11.jpg\nProcessing file\n > data/frames/test1/frame34.jpg\nElapsed time: 39.59180951118469s\nResult in: ./data/output/test1/rdn-C6-D20-G64-G064-x2/enhanced-e219/frame34.jpg\nProcessing file\n > data/frames/test1/frame20.jpg\nElapsed time: 41.06855821609497s\nResult in: ./data/output/test1/rdn-C6-D20-G64-G064-x2/enhanced-e219/frame20.jpg\nProcessing file\n > data/frames/test1/frame41.jpg\nElapsed time: 41.11613583564758s\nResult in: ./data/output/test1/rdn-C6-D20-G64-G064-x2/enhanced-e219/frame41.jpg\nProcessing file\n > data/frames/test1/frame15.jpg\nElapsed time: 46.28437089920044s\nResult in: ./data/output/test1/rdn-C6-D20-G64-G064-x2/enhanced-e219/frame15.jpg\nProcessing file\n > data/frames/test1/frame35.jpg\nElapsed time: 52.4411940574646s\nResult in: ./data/output/test1/rdn-C6-D20-G64-G064-x2/enhanced-e219/frame35.jpg\nProcessing file\n > data/frames/test1/frame32.jpg\nElapsed time: 53.557358741760254s\nResult in: ./data/output/test1/rdn-C6-D20-G64-G064-x2/enhanced-e219/frame32.jpg\nProcessing file\n > data/frames/test1/frame23.jpg\nElapsed time: 51.79733061790466s\nResult in: ./data/output/test1/rdn-C6-D20-G64-G064-x2/enhanced-e219/frame23.jpg\nProcessing file\n > data/frames/test1/frame43.jpg\nElapsed time: 51.875489234924316s\nResult in: ./data/output/test1/rdn-C6-D20-G64-G064-x2/enhanced-e219/frame43.jpg\nProcessing file\n > data/frames/test1/frame17.jpg\nElapsed time: 50.73676609992981s\nResult in: ./data/output/test1/rdn-C6-D20-G64-G064-x2/enhanced-e219/frame17.jpg\n",
          "name": "stderr"
        },
        {
          "output_type": "stream",
          "text": "Processing file\n > data/frames/test1/frame9.jpg\nElapsed time: 50.81851315498352s\nResult in: ./data/output/test1/rdn-C6-D20-G64-G064-x2/enhanced-e219/frame9.jpg\nProcessing file\n > data/frames/test1/frame13.jpg\nElapsed time: 39.79508829116821s\nResult in: ./data/output/test1/rdn-C6-D20-G64-G064-x2/enhanced-e219/frame13.jpg\nProcessing file\n > data/frames/test1/frame36.jpg\nElapsed time: 39.65234994888306s\nResult in: ./data/output/test1/rdn-C6-D20-G64-G064-x2/enhanced-e219/frame36.jpg\nProcessing file\n > data/frames/test1/frame53.jpg\nElapsed time: 38.606783866882324s\nResult in: ./data/output/test1/rdn-C6-D20-G64-G064-x2/enhanced-e219/frame53.jpg\nProcessing file\n > data/frames/test1/frame42.jpg\nElapsed time: 41.100003480911255s\nResult in: ./data/output/test1/rdn-C6-D20-G64-G064-x2/enhanced-e219/frame42.jpg\nProcessing file\n > data/frames/test1/frame24.jpg\nElapsed time: 41.75619387626648s\nResult in: ./data/output/test1/rdn-C6-D20-G64-G064-x2/enhanced-e219/frame24.jpg\nProcessing file\n > data/frames/test1/frame44.jpg\nElapsed time: 41.934078216552734s\nResult in: ./data/output/test1/rdn-C6-D20-G64-G064-x2/enhanced-e219/frame44.jpg\nProcessing file\n > data/frames/test1/frame49.jpg\nElapsed time: 41.630929946899414s\nResult in: ./data/output/test1/rdn-C6-D20-G64-G064-x2/enhanced-e219/frame49.jpg\nProcessing file\n > data/frames/test1/frame0.jpg\nElapsed time: 41.15576481819153s\nResult in: ./data/output/test1/rdn-C6-D20-G64-G064-x2/enhanced-e219/frame0.jpg\nProcessing file\n > data/frames/test1/frame1.jpg\nElapsed time: 46.60789203643799s\nResult in: ./data/output/test1/rdn-C6-D20-G64-G064-x2/enhanced-e219/frame1.jpg\nProcessing file\n > data/frames/test1/frame30.jpg\nElapsed time: 50.04390621185303s\nResult in: ./data/output/test1/rdn-C6-D20-G64-G064-x2/enhanced-e219/frame30.jpg\n",
          "name": "stderr"
        }
      ]
    },
    {
      "metadata": {
        "trusted": true
      },
      "cell_type": "code",
      "source": "",
      "execution_count": null,
      "outputs": []
    }
  ],
  "metadata": {
    "kernelspec": {
      "name": "python36",
      "display_name": "Python 3.6",
      "language": "python"
    },
    "language_info": {
      "mimetype": "text/x-python",
      "nbconvert_exporter": "python",
      "name": "python",
      "pygments_lexer": "ipython3",
      "version": "3.6.6",
      "file_extension": ".py",
      "codemirror_mode": {
        "version": 3,
        "name": "ipython"
      }
    }
  },
  "nbformat": 4,
  "nbformat_minor": 2
}