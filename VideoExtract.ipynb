{
  "cells": [
    {
      "metadata": {
        "collapsed": true
      },
      "cell_type": "markdown",
      "source": "# Video-Frames-Extract"
    },
    {
      "metadata": {},
      "cell_type": "markdown",
      "source": "### Project Steps :\n1. Read video frame by frame\n2. Store frames in a directory\n3. Run Predictor Class on directory\n4. Stitch Frames together\n5. Output High Res video"
    },
    {
      "metadata": {},
      "cell_type": "markdown",
      "source": "## Step 1 - Extracting Video Frame by Frame  "
    },
    {
      "metadata": {
        "trusted": true
      },
      "cell_type": "code",
      "source": "# Importing Image/Video Processing Libraries\nimport numpy as np\nimport cv2",
      "execution_count": 1,
      "outputs": []
    },
    {
      "metadata": {
        "trusted": true
      },
      "cell_type": "code",
      "source": "# Reading in video\nfile_name = 'bunny144p.mp4'\nvidcap = cv2.VideoCapture('data/input/' + file_name)\nsuccess, image = vidcap.read()\ncount = 0\nframe_count = 60\n\nwhile success:\n    save_name = 'frame' + str(count) + '.jpg'\n    cv2.imwrite('data/frames/test1/' + save_name , image)\n    success, image = vidcap.read()\n    if count == frame_count:\n        break\n    else:\n        print('Read a new frame : ', success)\n        count += 1",
      "execution_count": 2,
      "outputs": [
        {
          "output_type": "stream",
          "text": "Read a new frame :  True\nRead a new frame :  True\nRead a new frame :  True\nRead a new frame :  True\nRead a new frame :  True\nRead a new frame :  True\nRead a new frame :  True\nRead a new frame :  True\nRead a new frame :  True\nRead a new frame :  True\nRead a new frame :  True\nRead a new frame :  True\nRead a new frame :  True\nRead a new frame :  True\nRead a new frame :  True\nRead a new frame :  True\nRead a new frame :  True\nRead a new frame :  True\nRead a new frame :  True\nRead a new frame :  True\nRead a new frame :  True\nRead a new frame :  True\nRead a new frame :  True\nRead a new frame :  True\nRead a new frame :  True\nRead a new frame :  True\nRead a new frame :  True\nRead a new frame :  True\nRead a new frame :  True\nRead a new frame :  True\nRead a new frame :  True\nRead a new frame :  True\nRead a new frame :  True\nRead a new frame :  True\nRead a new frame :  True\nRead a new frame :  True\nRead a new frame :  True\nRead a new frame :  True\nRead a new frame :  True\nRead a new frame :  True\nRead a new frame :  True\nRead a new frame :  True\nRead a new frame :  True\nRead a new frame :  True\nRead a new frame :  True\nRead a new frame :  True\nRead a new frame :  True\nRead a new frame :  True\nRead a new frame :  True\nRead a new frame :  True\nRead a new frame :  True\nRead a new frame :  True\nRead a new frame :  True\nRead a new frame :  True\nRead a new frame :  True\nRead a new frame :  True\nRead a new frame :  True\nRead a new frame :  True\nRead a new frame :  True\nRead a new frame :  True\n",
          "name": "stdout"
        }
      ]
    },
    {
      "metadata": {
        "trusted": true
      },
      "cell_type": "code",
      "source": "print('Number of Frames Read : ', count)",
      "execution_count": 3,
      "outputs": [
        {
          "output_type": "stream",
          "text": "Number of Frames Read :  60\n",
          "name": "stdout"
        }
      ]
    },
    {
      "metadata": {
        "trusted": true
      },
      "cell_type": "markdown",
      "source": "Now Run VideoEnhancer to get the enhanced output frames"
    }
  ],
  "metadata": {
    "kernelspec": {
      "name": "python3",
      "display_name": "Python 3",
      "language": "python"
    },
    "language_info": {
      "mimetype": "text/x-python",
      "nbconvert_exporter": "python",
      "name": "python",
      "pygments_lexer": "ipython3",
      "version": "3.5.4",
      "file_extension": ".py",
      "codemirror_mode": {
        "version": 3,
        "name": "ipython"
      }
    }
  },
  "nbformat": 4,
  "nbformat_minor": 2
}