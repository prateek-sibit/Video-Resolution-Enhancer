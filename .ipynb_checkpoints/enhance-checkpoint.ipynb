{
  "cells": [
    {
      "metadata": {},
      "cell_type": "markdown",
      "source": "# Install ISR"
    },
    {
      "metadata": {
        "trusted": true
      },
      "cell_type": "code",
      "source": "!pip install ISR",
      "execution_count": 2,
      "outputs": [
        {
          "output_type": "stream",
          "text": "Requirement already satisfied: ISR in /home/nbuser/anaconda3_501/lib/python3.6/site-packages (2.0.0)\nRequirement already satisfied: tqdm in /home/nbuser/anaconda3_501/lib/python3.6/site-packages (from ISR) (4.26.0)\nRequirement already satisfied: numpy==1.16.2 in /home/nbuser/anaconda3_501/lib/python3.6/site-packages (from ISR) (1.16.2)\nRequirement already satisfied: tensorflow==1.13.1 in /home/nbuser/anaconda3_501/lib/python3.6/site-packages (from ISR) (1.13.1)\nRequirement already satisfied: Keras==2.2.4 in /home/nbuser/anaconda3_501/lib/python3.6/site-packages (from ISR) (2.2.4)\nRequirement already satisfied: imageio in /home/nbuser/anaconda3_501/lib/python3.6/site-packages (from ISR) (2.4.1)\nRequirement already satisfied: gast>=0.2.0 in /home/nbuser/anaconda3_501/lib/python3.6/site-packages (from tensorflow==1.13.1->ISR) (0.2.2)\nRequirement already satisfied: six>=1.10.0 in /home/nbuser/anaconda3_501/lib/python3.6/site-packages (from tensorflow==1.13.1->ISR) (1.11.0)\nRequirement already satisfied: tensorboard<1.14.0,>=1.13.0 in /home/nbuser/anaconda3_501/lib/python3.6/site-packages (from tensorflow==1.13.1->ISR) (1.13.1)\nRequirement already satisfied: protobuf>=3.6.1 in /home/nbuser/anaconda3_501/lib/python3.6/site-packages (from tensorflow==1.13.1->ISR) (3.7.0)\nRequirement already satisfied: grpcio>=1.8.6 in /home/nbuser/anaconda3_501/lib/python3.6/site-packages (from tensorflow==1.13.1->ISR) (1.19.0)\nRequirement already satisfied: wheel>=0.26 in /home/nbuser/anaconda3_501/lib/python3.6/site-packages (from tensorflow==1.13.1->ISR) (0.30.0)\nRequirement already satisfied: tensorflow-estimator<1.14.0rc0,>=1.13.0 in /home/nbuser/anaconda3_501/lib/python3.6/site-packages (from tensorflow==1.13.1->ISR) (1.13.0)\nRequirement already satisfied: absl-py>=0.1.6 in /home/nbuser/anaconda3_501/lib/python3.6/site-packages (from tensorflow==1.13.1->ISR) (0.7.0)\nRequirement already satisfied: termcolor>=1.1.0 in /home/nbuser/anaconda3_501/lib/python3.6/site-packages (from tensorflow==1.13.1->ISR) (1.1.0)\nRequirement already satisfied: keras-applications>=1.0.6 in /home/nbuser/anaconda3_501/lib/python3.6/site-packages (from tensorflow==1.13.1->ISR) (1.0.7)\nRequirement already satisfied: keras-preprocessing>=1.0.5 in /home/nbuser/anaconda3_501/lib/python3.6/site-packages (from tensorflow==1.13.1->ISR) (1.0.9)\nRequirement already satisfied: astor>=0.6.0 in /home/nbuser/anaconda3_501/lib/python3.6/site-packages (from tensorflow==1.13.1->ISR) (0.7.1)\nRequirement already satisfied: pyyaml in /home/nbuser/anaconda3_501/lib/python3.6/site-packages (from Keras==2.2.4->ISR) (3.13)\nRequirement already satisfied: scipy>=0.14 in /home/nbuser/anaconda3_501/lib/python3.6/site-packages (from Keras==2.2.4->ISR) (1.1.0)\nRequirement already satisfied: h5py in /home/nbuser/anaconda3_501/lib/python3.6/site-packages (from Keras==2.2.4->ISR) (2.8.0)\nRequirement already satisfied: werkzeug>=0.11.15 in /home/nbuser/anaconda3_501/lib/python3.6/site-packages (from tensorboard<1.14.0,>=1.13.0->tensorflow==1.13.1->ISR) (0.14.1)\nRequirement already satisfied: markdown>=2.6.8 in /home/nbuser/anaconda3_501/lib/python3.6/site-packages (from tensorboard<1.14.0,>=1.13.0->tensorflow==1.13.1->ISR) (3.0.1)\nRequirement already satisfied: setuptools in /home/nbuser/anaconda3_501/lib/python3.6/site-packages (from protobuf>=3.6.1->tensorflow==1.13.1->ISR) (40.8.0)\nRequirement already satisfied: mock>=2.0.0 in /home/nbuser/anaconda3_501/lib/python3.6/site-packages (from tensorflow-estimator<1.14.0rc0,>=1.13.0->tensorflow==1.13.1->ISR) (2.0.0)\nRequirement already satisfied: pbr>=0.11 in /home/nbuser/anaconda3_501/lib/python3.6/site-packages (from mock>=2.0.0->tensorflow-estimator<1.14.0rc0,>=1.13.0->tensorflow==1.13.1->ISR) (4.2.0)\n",
          "name": "stdout"
        }
      ]
    },
    {
      "metadata": {
        "trusted": true
      },
      "cell_type": "markdown",
      "source": "#### Get the weights with"
    },
    {
      "metadata": {
        "trusted": true
      },
      "cell_type": "code",
      "source": "!wget https://github.com/idealo/image-super-resolution/raw/master/weights/sample_weights/rdn-C6-D20-G64-G064-x2_enhanced-e219.hdf5\n!wget https://github.com/idealo/image-super-resolution/raw/master/weights/sample_weights/rdn-C6-D20-G64-G064-x2_div2k-e086.hdf5\n!wget https://github.com/idealo/image-super-resolution/raw/master/weights/sample_weights/rdn-C3-D10-G64-G064-x2_div2k-e134.hdf5\n!mkdir weights\n!mv *.hdf5 weights",
      "execution_count": 3,
      "outputs": [
        {
          "output_type": "stream",
          "text": "--2019-03-29 07:01:06--  https://github.com/idealo/image-super-resolution/raw/master/weights/sample_weights/rdn-C6-D20-G64-G064-x2_enhanced-e219.hdf5\nResolving webproxy (webproxy)... 10.36.29.1\nConnecting to webproxy (webproxy)|10.36.29.1|:3128... connected.\nProxy request sent, awaiting response... 302 Found\nLocation: https://media.githubusercontent.com/media/idealo/image-super-resolution/master/weights/sample_weights/rdn-C6-D20-G64-G064-x2_enhanced-e219.hdf5 [following]\n--2019-03-29 07:01:07--  https://media.githubusercontent.com/media/idealo/image-super-resolution/master/weights/sample_weights/rdn-C6-D20-G64-G064-x2_enhanced-e219.hdf5\nConnecting to webproxy (webproxy)|10.36.29.1|:3128... connected.\nProxy request sent, awaiting response... 200 OK\nLength: 66071288 (63M) [application/octet-stream]\nSaving to: ‘rdn-C6-D20-G64-G064-x2_enhanced-e219.hdf5’\n\nrdn-C6-D20-G64-G064 100%[===================>]  63.01M  1.92MB/s    in 30s     \n\n2019-03-29 07:01:39 (2.09 MB/s) - ‘rdn-C6-D20-G64-G064-x2_enhanced-e219.hdf5’ saved [66071288/66071288]\n\n--2019-03-29 07:01:39--  https://github.com/idealo/image-super-resolution/raw/master/weights/sample_weights/rdn-C6-D20-G64-G064-x2_div2k-e086.hdf5\nResolving webproxy (webproxy)... 10.36.29.1\nConnecting to webproxy (webproxy)|10.36.29.1|:3128... connected.\nProxy request sent, awaiting response... 302 Found\nLocation: https://media.githubusercontent.com/media/idealo/image-super-resolution/master/weights/sample_weights/rdn-C6-D20-G64-G064-x2_div2k-e086.hdf5 [following]\n--2019-03-29 07:01:39--  https://media.githubusercontent.com/media/idealo/image-super-resolution/master/weights/sample_weights/rdn-C6-D20-G64-G064-x2_div2k-e086.hdf5\nConnecting to webproxy (webproxy)|10.36.29.1|:3128... connected.\nProxy request sent, awaiting response... 200 OK\nLength: 66071288 (63M) [application/octet-stream]\nSaving to: ‘rdn-C6-D20-G64-G064-x2_div2k-e086.hdf5’\n\nrdn-C6-D20-G64-G064 100%[===================>]  63.01M  1.73MB/s    in 32s     \n\n2019-03-29 07:02:13 (1.95 MB/s) - ‘rdn-C6-D20-G64-G064-x2_div2k-e086.hdf5’ saved [66071288/66071288]\n\n--2019-03-29 07:02:13--  https://github.com/idealo/image-super-resolution/raw/master/weights/sample_weights/rdn-C3-D10-G64-G064-x2_div2k-e134.hdf5\nResolving webproxy (webproxy)... 10.36.29.1\nConnecting to webproxy (webproxy)|10.36.29.1|:3128... connected.\nProxy request sent, awaiting response... 302 Found\nLocation: https://media.githubusercontent.com/media/idealo/image-super-resolution/master/weights/sample_weights/rdn-C3-D10-G64-G064-x2_div2k-e134.hdf5 [following]\n--2019-03-29 07:02:13--  https://media.githubusercontent.com/media/idealo/image-super-resolution/master/weights/sample_weights/rdn-C3-D10-G64-G064-x2_div2k-e134.hdf5\nConnecting to webproxy (webproxy)|10.36.29.1|:3128... connected.\nProxy request sent, awaiting response... 200 OK\nLength: 10694096 (10M) [application/octet-stream]\nSaving to: ‘rdn-C3-D10-G64-G064-x2_div2k-e134.hdf5’\n\nrdn-C3-D10-G64-G064 100%[===================>]  10.20M  1.52MB/s    in 5.7s    \n\n2019-03-29 07:02:20 (1.79 MB/s) - ‘rdn-C3-D10-G64-G064-x2_div2k-e134.hdf5’ saved [10694096/10694096]\n\n",
          "name": "stdout"
        }
      ]
    },
    {
      "metadata": {
        "trusted": true
      },
      "cell_type": "markdown",
      "source": "#### Create the model and run predictions\nCreate the RDN model, for which we provide pre-trained weights, and load them"
    },
    {
      "metadata": {
        "trusted": true
      },
      "cell_type": "code",
      "source": "from ISR.models import RDN",
      "execution_count": 4,
      "outputs": [
        {
          "output_type": "stream",
          "text": "Using TensorFlow backend.\n",
          "name": "stderr"
        }
      ]
    },
    {
      "metadata": {},
      "cell_type": "markdown",
      "source": "#### Large RDN noise cancelling, detail enchancing model"
    },
    {
      "metadata": {
        "trusted": true
      },
      "cell_type": "code",
      "source": "rdn = RDN(arch_params={'C': 6, 'D':20, 'G':64, 'G0':64, 'x':2})\nrdn.model.load_weights('weights/rdn-C6-D20-G64-G064-x2_enhanced-e219.hdf5')",
      "execution_count": 5,
      "outputs": [
        {
          "output_type": "stream",
          "text": "WARNING:tensorflow:From /home/nbuser/anaconda3_501/lib/python3.6/site-packages/tensorflow/python/framework/op_def_library.py:263: colocate_with (from tensorflow.python.framework.ops) is deprecated and will be removed in a future version.\nInstructions for updating:\nColocations handled automatically by placer.\n",
          "name": "stdout"
        }
      ]
    },
    {
      "metadata": {},
      "cell_type": "markdown",
      "source": "#### Predictor Class"
    },
    {
      "metadata": {},
      "cell_type": "markdown",
      "source": "We can also use the predictor class to run the model on entire folders:"
    },
    {
      "metadata": {
        "trusted": true
      },
      "cell_type": "code",
      "source": "from ISR.predict import Predictor\n\npredictor = Predictor(input_dir='data/frames/test1')\npredictor.get_predictions(model=rdn, weights_path='weights/rdn-C6-D20-G64-G064-x2_enhanced-e219.hdf5')",
      "execution_count": 6,
      "outputs": [
        {
          "output_type": "error",
          "ename": "FileNotFoundError",
          "evalue": "[Errno 2] No such file or directory: 'data/input/test_images/'",
          "traceback": [
            "\u001b[0;31m---------------------------------------------------------------------------\u001b[0m",
            "\u001b[0;31mFileNotFoundError\u001b[0m                         Traceback (most recent call last)",
            "\u001b[0;32m<ipython-input-6-d2dc22fdb355>\u001b[0m in \u001b[0;36m<module>\u001b[0;34m\u001b[0m\n\u001b[1;32m      1\u001b[0m \u001b[0;32mfrom\u001b[0m \u001b[0mISR\u001b[0m\u001b[0;34m.\u001b[0m\u001b[0mpredict\u001b[0m \u001b[0;32mimport\u001b[0m \u001b[0mPredictor\u001b[0m\u001b[0;34m\u001b[0m\u001b[0m\n\u001b[1;32m      2\u001b[0m \u001b[0mget_ipython\u001b[0m\u001b[0;34m(\u001b[0m\u001b[0;34m)\u001b[0m\u001b[0;34m.\u001b[0m\u001b[0msystem\u001b[0m\u001b[0;34m(\u001b[0m\u001b[0;34m'mkdir -p data/output'\u001b[0m\u001b[0;34m)\u001b[0m\u001b[0;34m\u001b[0m\u001b[0m\n\u001b[0;32m----> 3\u001b[0;31m \u001b[0mpredictor\u001b[0m \u001b[0;34m=\u001b[0m \u001b[0mPredictor\u001b[0m\u001b[0;34m(\u001b[0m\u001b[0minput_dir\u001b[0m\u001b[0;34m=\u001b[0m\u001b[0;34m'data/input/test_images/'\u001b[0m\u001b[0;34m)\u001b[0m\u001b[0;34m\u001b[0m\u001b[0m\n\u001b[0m\u001b[1;32m      4\u001b[0m \u001b[0mpredictor\u001b[0m\u001b[0;34m.\u001b[0m\u001b[0mget_predictions\u001b[0m\u001b[0;34m(\u001b[0m\u001b[0mmodel\u001b[0m\u001b[0;34m=\u001b[0m\u001b[0mrdn\u001b[0m\u001b[0;34m,\u001b[0m \u001b[0mweights_path\u001b[0m\u001b[0;34m=\u001b[0m\u001b[0;34m'weights/rdn-C6-D20-G64-G064-x2_enhanced-e219.hdf5'\u001b[0m\u001b[0;34m)\u001b[0m\u001b[0;34m\u001b[0m\u001b[0m\n",
            "\u001b[0;32m~/anaconda3_501/lib/python3.6/site-packages/ISR/predict/predictor.py\u001b[0m in \u001b[0;36m__init__\u001b[0;34m(self, input_dir, output_dir, verbose)\u001b[0m\n\u001b[1;32m     35\u001b[0m         \u001b[0mself\u001b[0m\u001b[0;34m.\u001b[0m\u001b[0mdata_name\u001b[0m \u001b[0;34m=\u001b[0m \u001b[0mos\u001b[0m\u001b[0;34m.\u001b[0m\u001b[0mpath\u001b[0m\u001b[0;34m.\u001b[0m\u001b[0mbasename\u001b[0m\u001b[0;34m(\u001b[0m\u001b[0mos\u001b[0m\u001b[0;34m.\u001b[0m\u001b[0mpath\u001b[0m\u001b[0;34m.\u001b[0m\u001b[0mnormpath\u001b[0m\u001b[0;34m(\u001b[0m\u001b[0mself\u001b[0m\u001b[0;34m.\u001b[0m\u001b[0minput_dir\u001b[0m\u001b[0;34m)\u001b[0m\u001b[0;34m)\u001b[0m\u001b[0;34m\u001b[0m\u001b[0m\n\u001b[1;32m     36\u001b[0m         \u001b[0mself\u001b[0m\u001b[0;34m.\u001b[0m\u001b[0moutput_dir\u001b[0m \u001b[0;34m=\u001b[0m \u001b[0mos\u001b[0m\u001b[0;34m.\u001b[0m\u001b[0mpath\u001b[0m\u001b[0;34m.\u001b[0m\u001b[0mjoin\u001b[0m\u001b[0;34m(\u001b[0m\u001b[0moutput_dir\u001b[0m\u001b[0;34m,\u001b[0m \u001b[0mself\u001b[0m\u001b[0;34m.\u001b[0m\u001b[0mdata_name\u001b[0m\u001b[0;34m)\u001b[0m\u001b[0;34m\u001b[0m\u001b[0m\n\u001b[0;32m---> 37\u001b[0;31m         \u001b[0mfile_ls\u001b[0m \u001b[0;34m=\u001b[0m \u001b[0mos\u001b[0m\u001b[0;34m.\u001b[0m\u001b[0mlistdir\u001b[0m\u001b[0;34m(\u001b[0m\u001b[0mself\u001b[0m\u001b[0;34m.\u001b[0m\u001b[0minput_dir\u001b[0m\u001b[0;34m)\u001b[0m\u001b[0;34m\u001b[0m\u001b[0m\n\u001b[0m\u001b[1;32m     38\u001b[0m         \u001b[0mself\u001b[0m\u001b[0;34m.\u001b[0m\u001b[0mlogger\u001b[0m \u001b[0;34m=\u001b[0m \u001b[0mget_logger\u001b[0m\u001b[0;34m(\u001b[0m\u001b[0m__name__\u001b[0m\u001b[0;34m)\u001b[0m\u001b[0;34m\u001b[0m\u001b[0m\n\u001b[1;32m     39\u001b[0m         \u001b[0;32mif\u001b[0m \u001b[0;32mnot\u001b[0m \u001b[0mverbose\u001b[0m\u001b[0;34m:\u001b[0m\u001b[0;34m\u001b[0m\u001b[0m\n",
            "\u001b[0;31mFileNotFoundError\u001b[0m: [Errno 2] No such file or directory: 'data/input/test_images/'"
          ]
        }
      ]
    },
    {
      "metadata": {
        "trusted": true
      },
      "cell_type": "code",
      "source": "",
      "execution_count": null,
      "outputs": []
    }
  ],
  "metadata": {
    "kernelspec": {
      "name": "python36",
      "display_name": "Python 3.6",
      "language": "python"
    },
    "language_info": {
      "mimetype": "text/x-python",
      "nbconvert_exporter": "python",
      "name": "python",
      "pygments_lexer": "ipython3",
      "version": "3.6.6",
      "file_extension": ".py",
      "codemirror_mode": {
        "version": 3,
        "name": "ipython"
      }
    }
  },
  "nbformat": 4,
  "nbformat_minor": 2
}