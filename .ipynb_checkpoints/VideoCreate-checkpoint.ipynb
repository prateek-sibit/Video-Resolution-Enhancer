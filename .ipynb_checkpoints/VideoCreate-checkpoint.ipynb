{
  "cells": [
    {
      "metadata": {
        "collapsed": true
      },
      "cell_type": "markdown",
      "source": "# Stitch Extracted Frames into Video"
    },
    {
      "metadata": {
        "trusted": true
      },
      "cell_type": "code",
      "source": "# Importing Libraries\nimport cv2\nimport os\nfrom os.path import isfile, join",
      "execution_count": 10,
      "outputs": []
    },
    {
      "metadata": {},
      "cell_type": "markdown",
      "source": "Comparing Dimensions of Original Video Frame and Enhanced Video Frame"
    },
    {
      "metadata": {
        "trusted": true
      },
      "cell_type": "code",
      "source": "original = cv2.imread('data/frames/test1/frame15.jpg')\nenhanced = cv2.imread('data/output/test1/rdn-C6-D20-G64-G064-x2/enhanced-e219/frame15.jpg')\nprint('Original : ', original.shape)\nprint('Enhanced : ', enhanced.shape)",
      "execution_count": 9,
      "outputs": [
        {
          "output_type": "stream",
          "text": "Original :  (144, 256, 3)\nEnhanced :  (288, 512, 3)\n",
          "name": "stdout"
        }
      ]
    },
    {
      "metadata": {
        "trusted": true
      },
      "cell_type": "code",
      "source": "def convert_frames_to_video(pathIn,pathOut,fps):\n    frame_array = []\n    files = [f for f in os.listdir(pathIn) if isfile(join(pathIn, f))]\n \n    #for sorting the file names properly\n    files.sort(key = lambda x: int(x[5:-4]))\n \n    for i in range(len(files)):\n        filename=pathIn + files[i]\n        #reading each files\n        img = cv2.imread(filename)\n        height, width, layers = img.shape\n        size = (width,height)\n        print(filename)\n        #inserting the frames into an image array\n        frame_array.append(img)\n \n    out = cv2.VideoWriter(pathOut,cv2.VideoWriter_fourcc(*'DIVX'), fps, size)\n \n    for i in range(len(frame_array)):\n        # writing to a image array\n        out.write(frame_array[i])\n    out.release()",
      "execution_count": 12,
      "outputs": []
    },
    {
      "metadata": {
        "trusted": true
      },
      "cell_type": "code",
      "source": "# Converting Enhanced to Video\npathIn= 'data/output/test1/rdn-C6-D20-G64-G064-x2/enhanced-e219/'\npathOut = 'data/output_videos/output_video.avi'\nfps = 25.0\nconvert_frames_to_video(pathIn, pathOut, fps)",
      "execution_count": 13,
      "outputs": [
        {
          "output_type": "stream",
          "text": "data/output/test1/rdn-C6-D20-G64-G064-x2/enhanced-e219/frame0.jpg\ndata/output/test1/rdn-C6-D20-G64-G064-x2/enhanced-e219/frame1.jpg\ndata/output/test1/rdn-C6-D20-G64-G064-x2/enhanced-e219/frame2.jpg\ndata/output/test1/rdn-C6-D20-G64-G064-x2/enhanced-e219/frame3.jpg\ndata/output/test1/rdn-C6-D20-G64-G064-x2/enhanced-e219/frame4.jpg\ndata/output/test1/rdn-C6-D20-G64-G064-x2/enhanced-e219/frame5.jpg\ndata/output/test1/rdn-C6-D20-G64-G064-x2/enhanced-e219/frame6.jpg\ndata/output/test1/rdn-C6-D20-G64-G064-x2/enhanced-e219/frame7.jpg\ndata/output/test1/rdn-C6-D20-G64-G064-x2/enhanced-e219/frame8.jpg\ndata/output/test1/rdn-C6-D20-G64-G064-x2/enhanced-e219/frame9.jpg\ndata/output/test1/rdn-C6-D20-G64-G064-x2/enhanced-e219/frame10.jpg\ndata/output/test1/rdn-C6-D20-G64-G064-x2/enhanced-e219/frame11.jpg\ndata/output/test1/rdn-C6-D20-G64-G064-x2/enhanced-e219/frame12.jpg\ndata/output/test1/rdn-C6-D20-G64-G064-x2/enhanced-e219/frame13.jpg\ndata/output/test1/rdn-C6-D20-G64-G064-x2/enhanced-e219/frame14.jpg\ndata/output/test1/rdn-C6-D20-G64-G064-x2/enhanced-e219/frame15.jpg\ndata/output/test1/rdn-C6-D20-G64-G064-x2/enhanced-e219/frame16.jpg\ndata/output/test1/rdn-C6-D20-G64-G064-x2/enhanced-e219/frame17.jpg\ndata/output/test1/rdn-C6-D20-G64-G064-x2/enhanced-e219/frame18.jpg\ndata/output/test1/rdn-C6-D20-G64-G064-x2/enhanced-e219/frame19.jpg\ndata/output/test1/rdn-C6-D20-G64-G064-x2/enhanced-e219/frame20.jpg\ndata/output/test1/rdn-C6-D20-G64-G064-x2/enhanced-e219/frame21.jpg\ndata/output/test1/rdn-C6-D20-G64-G064-x2/enhanced-e219/frame22.jpg\ndata/output/test1/rdn-C6-D20-G64-G064-x2/enhanced-e219/frame23.jpg\ndata/output/test1/rdn-C6-D20-G64-G064-x2/enhanced-e219/frame24.jpg\ndata/output/test1/rdn-C6-D20-G64-G064-x2/enhanced-e219/frame25.jpg\ndata/output/test1/rdn-C6-D20-G64-G064-x2/enhanced-e219/frame26.jpg\ndata/output/test1/rdn-C6-D20-G64-G064-x2/enhanced-e219/frame27.jpg\ndata/output/test1/rdn-C6-D20-G64-G064-x2/enhanced-e219/frame28.jpg\ndata/output/test1/rdn-C6-D20-G64-G064-x2/enhanced-e219/frame29.jpg\ndata/output/test1/rdn-C6-D20-G64-G064-x2/enhanced-e219/frame30.jpg\ndata/output/test1/rdn-C6-D20-G64-G064-x2/enhanced-e219/frame31.jpg\ndata/output/test1/rdn-C6-D20-G64-G064-x2/enhanced-e219/frame32.jpg\ndata/output/test1/rdn-C6-D20-G64-G064-x2/enhanced-e219/frame33.jpg\ndata/output/test1/rdn-C6-D20-G64-G064-x2/enhanced-e219/frame34.jpg\ndata/output/test1/rdn-C6-D20-G64-G064-x2/enhanced-e219/frame35.jpg\ndata/output/test1/rdn-C6-D20-G64-G064-x2/enhanced-e219/frame36.jpg\ndata/output/test1/rdn-C6-D20-G64-G064-x2/enhanced-e219/frame37.jpg\ndata/output/test1/rdn-C6-D20-G64-G064-x2/enhanced-e219/frame38.jpg\ndata/output/test1/rdn-C6-D20-G64-G064-x2/enhanced-e219/frame39.jpg\ndata/output/test1/rdn-C6-D20-G64-G064-x2/enhanced-e219/frame40.jpg\ndata/output/test1/rdn-C6-D20-G64-G064-x2/enhanced-e219/frame41.jpg\ndata/output/test1/rdn-C6-D20-G64-G064-x2/enhanced-e219/frame42.jpg\ndata/output/test1/rdn-C6-D20-G64-G064-x2/enhanced-e219/frame43.jpg\ndata/output/test1/rdn-C6-D20-G64-G064-x2/enhanced-e219/frame44.jpg\ndata/output/test1/rdn-C6-D20-G64-G064-x2/enhanced-e219/frame45.jpg\ndata/output/test1/rdn-C6-D20-G64-G064-x2/enhanced-e219/frame46.jpg\ndata/output/test1/rdn-C6-D20-G64-G064-x2/enhanced-e219/frame47.jpg\ndata/output/test1/rdn-C6-D20-G64-G064-x2/enhanced-e219/frame48.jpg\ndata/output/test1/rdn-C6-D20-G64-G064-x2/enhanced-e219/frame49.jpg\ndata/output/test1/rdn-C6-D20-G64-G064-x2/enhanced-e219/frame50.jpg\ndata/output/test1/rdn-C6-D20-G64-G064-x2/enhanced-e219/frame51.jpg\ndata/output/test1/rdn-C6-D20-G64-G064-x2/enhanced-e219/frame52.jpg\ndata/output/test1/rdn-C6-D20-G64-G064-x2/enhanced-e219/frame53.jpg\ndata/output/test1/rdn-C6-D20-G64-G064-x2/enhanced-e219/frame54.jpg\ndata/output/test1/rdn-C6-D20-G64-G064-x2/enhanced-e219/frame55.jpg\ndata/output/test1/rdn-C6-D20-G64-G064-x2/enhanced-e219/frame56.jpg\ndata/output/test1/rdn-C6-D20-G64-G064-x2/enhanced-e219/frame57.jpg\ndata/output/test1/rdn-C6-D20-G64-G064-x2/enhanced-e219/frame58.jpg\ndata/output/test1/rdn-C6-D20-G64-G064-x2/enhanced-e219/frame59.jpg\ndata/output/test1/rdn-C6-D20-G64-G064-x2/enhanced-e219/frame60.jpg\n",
          "name": "stdout"
        }
      ]
    },
    {
      "metadata": {
        "trusted": true
      },
      "cell_type": "code",
      "source": "",
      "execution_count": null,
      "outputs": []
    }
  ],
  "metadata": {
    "kernelspec": {
      "name": "python3",
      "display_name": "Python 3",
      "language": "python"
    },
    "language_info": {
      "mimetype": "text/x-python",
      "nbconvert_exporter": "python",
      "name": "python",
      "pygments_lexer": "ipython3",
      "version": "3.5.4",
      "file_extension": ".py",
      "codemirror_mode": {
        "version": 3,
        "name": "ipython"
      }
    }
  },
  "nbformat": 4,
  "nbformat_minor": 2
}